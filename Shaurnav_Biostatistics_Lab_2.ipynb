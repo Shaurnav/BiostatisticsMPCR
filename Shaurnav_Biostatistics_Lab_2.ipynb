{
  "nbformat": 4,
  "nbformat_minor": 0,
  "metadata": {
    "colab": {
      "name": "Shaurnav Biostatistics Lab 2",
      "provenance": [],
      "include_colab_link": true
    },
    "kernelspec": {
      "name": "python3",
      "display_name": "Python 3"
    }
  },
  "cells": [
    {
      "cell_type": "markdown",
      "metadata": {
        "id": "view-in-github",
        "colab_type": "text"
      },
      "source": [
        "<a href=\"https://colab.research.google.com/github/SirNavalot/BiostatisticsMPCR/blob/main/Shaurnav_Biostatistics_Lab_2.ipynb\" target=\"_parent\"><img src=\"https://colab.research.google.com/assets/colab-badge.svg\" alt=\"Open In Colab\"/></a>"
      ]
    },
    {
      "cell_type": "markdown",
      "metadata": {
        "id": "_ci_ecL_JMxL"
      },
      "source": [
        "# Lab 2\n",
        "\n",
        "# Turning biology into mathematics\n",
        "\n",
        "In this lab demonstration we will access the uniprot database and create a new dataset. Our dataset will consist of four thousand proteins, half associated with the keyword antibody and the other half not related to the keyword. The proteins are represented by their primary structure sequence of amino acids, in other words each protein is a string of letters representing each amino acid in the sequence. (Don't worry if these ideas are new to you.)"
      ]
    },
    {
      "cell_type": "markdown",
      "metadata": {
        "id": "63dzE6XUEJvX"
      },
      "source": [
        "The one-letter and three-letter codes for amino acids used in the knowledgebase are those adopted by the commission on Biochemical Nomenclature of the IUPAC-IUB\n",
        "\n",
        "One-letter code\tThree-letter code\tAmino-acid name\n",
        "\n",
        "A\tAla\t  Alanine\n",
        "\n",
        "R\tArg\t  Arginine\n",
        "\n",
        "N\tAsn\t  Asparagine\n",
        "\n",
        "D\tAsp\t  Aspartic acid\n",
        "\n",
        "C\tCys\t  Cysteine\n",
        "\n",
        "Q\tGln\t  Glutamine\n",
        "\n",
        "E\tGlu\t  Glutamic acid\n",
        "\n",
        "G\tGly\t  Glycine\n",
        "\n",
        "H\tHis\t  Histidine\n",
        "\n",
        "I\tIle\t  Isoleucine\n",
        "\n",
        "L\tLeu\t  Leucine\n",
        "\n",
        "K\tLys\t  Lysine\n",
        "\n",
        "M\tMet\t  Methionine\n",
        "\n",
        "F\tPhe\t  Phenylalanine\n",
        "\n",
        "P\tPro\t  Proline\n",
        "\n",
        "S\tSer\t  Serine\n",
        "\n",
        "T\tThr\t  Threonine\n",
        "\n",
        "W\tTrp\t  Tryptophan\n",
        "\n",
        "Y\tTyr\t  Tyrosine\n",
        "\n",
        "V\tVal\t  Valine\n",
        "\n",
        "O\tPyl\t  Pyrrolysine\n",
        "\n",
        "U\tSec\t  Selenocysteine\n",
        "\n",
        "B\tAsx\t  Aspartic acid or Asparagine\n",
        "\n",
        "Z\tGlx\t  Glutamic acid or Glutamine\n",
        "\n",
        "X\tXaa\t  Any amino acid\n"
      ]
    },
    {
      "cell_type": "code",
      "metadata": {
        "id": "WLN-5CsQqtgA",
        "outputId": "8da4fac8-a99c-4675-c605-9c832deee75b",
        "colab": {
          "base_uri": "https://localhost:8080/",
          "height": 207
        }
      },
      "source": [
        "!pip install git+https://github.com/williamedwardhahn/mpcr #Basic pip installatio\n",
        "from mpcr import * #Asterisk usually denotes \"all\" "
      ],
      "execution_count": 1,
      "outputs": [
        {
          "output_type": "stream",
          "text": [
            "Collecting git+https://github.com/williamedwardhahn/mpcr\n",
            "  Cloning https://github.com/williamedwardhahn/mpcr to /tmp/pip-req-build-pfjxlok7\n",
            "  Running command git clone -q https://github.com/williamedwardhahn/mpcr /tmp/pip-req-build-pfjxlok7\n",
            "Building wheels for collected packages: ImportMPCR\n",
            "  Building wheel for ImportMPCR (setup.py) ... \u001b[?25l\u001b[?25hdone\n",
            "  Created wheel for ImportMPCR: filename=ImportMPCR-0.0.1-cp36-none-any.whl size=5914 sha256=eea9cb7d60bc1e57906806eadeef46a41094a3843574f5f228be8c4441c50f81\n",
            "  Stored in directory: /tmp/pip-ephem-wheel-cache-cv_gvnwh/wheels/89/93/47/ef43fe80a5b823a05d8dcca5ed1581f4fcdacf69b27110603f\n",
            "Successfully built ImportMPCR\n",
            "Installing collected packages: ImportMPCR\n",
            "Successfully installed ImportMPCR-0.0.1\n"
          ],
          "name": "stdout"
        }
      ]
    },
    {
      "cell_type": "code",
      "metadata": {
        "id": "IyLwBAXUWRuN",
        "outputId": "d9e314f2-740d-4aa0-8a17-f562c7090640",
        "colab": {
          "base_uri": "https://localhost:8080/",
          "height": 51
        }
      },
      "source": [
        "# This code will create a dataset from the uniprot database\n",
        "X, Y = get_uniprot_data('=antibody', '!antibody', 2000) \n",
        "print(type(X)) #debugging purposes \n",
        "print(type(Y)) #debugging purposes\n",
        "#get_uniprot_data returns two lists"
      ],
      "execution_count": 2,
      "outputs": [
        {
          "output_type": "stream",
          "text": [
            "<class 'list'>\n",
            "<class 'list'>\n"
          ],
          "name": "stdout"
        }
      ]
    },
    {
      "cell_type": "code",
      "metadata": {
        "id": "HzQ0DhBza2Wb"
      },
      "source": [
        "number_X = len(X)\n",
        "number_Y = len(Y)"
      ],
      "execution_count": 3,
      "outputs": []
    },
    {
      "cell_type": "code",
      "metadata": {
        "id": "JgEgYYfpa26y",
        "outputId": "becb06ad-0a8d-4759-b5be-65faa18b7efb",
        "colab": {
          "base_uri": "https://localhost:8080/",
          "height": 51
        }
      },
      "source": [
        "print(number_X)\n",
        "print(number_Y)"
      ],
      "execution_count": 4,
      "outputs": [
        {
          "output_type": "stream",
          "text": [
            "2000\n",
            "2000\n"
          ],
          "name": "stdout"
        }
      ]
    },
    {
      "cell_type": "code",
      "metadata": {
        "id": "XR4m4PQYOzL8",
        "outputId": "4d015173-1436-49ff-af6c-180ca55b5e46",
        "colab": {
          "base_uri": "https://localhost:8080/",
          "height": 69
        }
      },
      "source": [
        "X[0] #Amino acid sequence of the first protein on the list of proteins associated with 'antibody' => List of lists"
      ],
      "execution_count": 5,
      "outputs": [
        {
          "output_type": "execute_result",
          "data": {
            "application/vnd.google.colaboratory.intrinsic+json": {
              "type": "string"
            },
            "text/plain": [
              "'mahcteymnapkklpadvaeelattaqklvqagkgilaadestqtikkrfdniklentienrasyrdllfgtkglgkfisgailfeetlfqkneagvpmvnllhneniipgikvdkglvnipctdeekstqgldglaerckeyykagarfakwrtvlvidtakgkptdlsihetawglaryasicqqnrlvpivepeiladgphsievcavvtqkvlscvfkalqengvllegallkpnmvtagyectaktttqdvgfltvrtlrrtvppalpgvvflsggqseeeasvnlnsinalgphpwaltfsygralqasvlntwqgkkenvakarevllqraeanslatygkykggaggenagaslyekkyvy'"
            ]
          },
          "metadata": {
            "tags": []
          },
          "execution_count": 5
        }
      ]
    },
    {
      "cell_type": "markdown",
      "metadata": {
        "id": "LnQ7dtWpW4Dm"
      },
      "source": [
        "Turn protein strings of letters into vectors of numbers:"
      ]
    },
    {
      "cell_type": "code",
      "metadata": {
        "id": "PUxGK7R7WRw_"
      },
      "source": [
        "def process_strings(c):\n",
        "    '''Takes in a list of sequences 'c' and turns each one\n",
        "       into a list of numbers.'''\n",
        "       \n",
        "    X = []\n",
        "            \n",
        "    for  m, seq in enumerate(c):\n",
        "        x = [] \n",
        "        for letter in seq:\n",
        "            x.append(max(ord(letter)-97, 0))\n",
        "        \n",
        "        X.append(x)\n",
        "        \n",
        "    return X"
      ],
      "execution_count": 6,
      "outputs": []
    },
    {
      "cell_type": "code",
      "metadata": {
        "id": "xoq13cTkWRzU"
      },
      "source": [
        "X = process_strings(X)\n",
        "Y = process_strings(Y)"
      ],
      "execution_count": 7,
      "outputs": []
    },
    {
      "cell_type": "code",
      "metadata": {
        "id": "YpX1IK95WR2E",
        "outputId": "572f8894-faf9-4879-b5d3-6e0a75dd1e37",
        "colab": {
          "base_uri": "https://localhost:8080/",
          "height": 54
        }
      },
      "source": [
        "print(X[0])"
      ],
      "execution_count": 11,
      "outputs": [
        {
          "output_type": "stream",
          "text": [
            "[12, 0, 7, 2, 19, 4, 24, 12, 13, 0, 15, 10, 10, 11, 15, 0, 3, 21, 0, 4, 4, 11, 0, 19, 19, 0, 16, 10, 11, 21, 16, 0, 6, 10, 6, 8, 11, 0, 0, 3, 4, 18, 19, 16, 19, 8, 10, 10, 17, 5, 3, 13, 8, 10, 11, 4, 13, 19, 8, 4, 13, 17, 0, 18, 24, 17, 3, 11, 11, 5, 6, 19, 10, 6, 11, 6, 10, 5, 8, 18, 6, 0, 8, 11, 5, 4, 4, 19, 11, 5, 16, 10, 13, 4, 0, 6, 21, 15, 12, 21, 13, 11, 11, 7, 13, 4, 13, 8, 8, 15, 6, 8, 10, 21, 3, 10, 6, 11, 21, 13, 8, 15, 2, 19, 3, 4, 4, 10, 18, 19, 16, 6, 11, 3, 6, 11, 0, 4, 17, 2, 10, 4, 24, 24, 10, 0, 6, 0, 17, 5, 0, 10, 22, 17, 19, 21, 11, 21, 8, 3, 19, 0, 10, 6, 10, 15, 19, 3, 11, 18, 8, 7, 4, 19, 0, 22, 6, 11, 0, 17, 24, 0, 18, 8, 2, 16, 16, 13, 17, 11, 21, 15, 8, 21, 4, 15, 4, 8, 11, 0, 3, 6, 15, 7, 18, 8, 4, 21, 2, 0, 21, 21, 19, 16, 10, 21, 11, 18, 2, 21, 5, 10, 0, 11, 16, 4, 13, 6, 21, 11, 11, 4, 6, 0, 11, 11, 10, 15, 13, 12, 21, 19, 0, 6, 24, 4, 2, 19, 0, 10, 19, 19, 19, 16, 3, 21, 6, 5, 11, 19, 21, 17, 19, 11, 17, 17, 19, 21, 15, 15, 0, 11, 15, 6, 21, 21, 5, 11, 18, 6, 6, 16, 18, 4, 4, 4, 0, 18, 21, 13, 11, 13, 18, 8, 13, 0, 11, 6, 15, 7, 15, 22, 0, 11, 19, 5, 18, 24, 6, 17, 0, 11, 16, 0, 18, 21, 11, 13, 19, 22, 16, 6, 10, 10, 4, 13, 21, 0, 10, 0, 17, 4, 21, 11, 11, 16, 17, 0, 4, 0, 13, 18, 11, 0, 19, 24, 6, 10, 24, 10, 6, 6, 0, 6, 6, 4, 13, 0, 6, 0, 18, 11, 24, 4, 10, 10, 24, 21, 24]\n"
          ],
          "name": "stdout"
        }
      ]
    },
    {
      "cell_type": "code",
      "metadata": {
        "id": "B67ed9PJgM8e",
        "outputId": "8d032481-d672-4289-97c8-ef813222f4ca",
        "colab": {
          "base_uri": "https://localhost:8080/",
          "height": 54
        }
      },
      "source": [
        "print(Y[0])"
      ],
      "execution_count": 10,
      "outputs": [
        {
          "output_type": "stream",
          "text": [
            "[12, 10, 19, 11, 11, 11, 19, 11, 21, 21, 21, 19, 8, 21, 2, 11, 3, 11, 6, 24, 19, 11, 10, 2, 7, 13, 19, 16, 11, 15, 5, 8, 24, 13, 19, 2, 15, 4, 6, 10, 13, 11, 2, 5, 10, 0, 19, 11, 10, 5, 15, 11, 10, 5, 15, 21, 10, 17, 6, 2, 0, 0, 19, 2, 15, 17, 18, 18, 18, 11, 21, 10, 21, 21, 2, 2, 10, 19, 3, 10, 2, 13]\n"
          ],
          "name": "stdout"
        }
      ]
    },
    {
      "cell_type": "code",
      "metadata": {
        "id": "o3cxGLn-gPV8",
        "outputId": "c380b22d-590d-4a01-814a-d698852172ee",
        "colab": {
          "base_uri": "https://localhost:8080/",
          "height": 367
        }
      },
      "source": [
        "plt.hist(X[0],25) #plt => matplotlib.pyplot"
      ],
      "execution_count": 12,
      "outputs": [
        {
          "output_type": "execute_result",
          "data": {
            "text/plain": [
              "(array([40.,  0.,  7., 11., 29., 10., 31.,  5., 17.,  0., 29., 39.,  4.,\n",
              "        19.,  0., 15., 14., 14., 16., 26.,  0., 27.,  4.,  0., 12.]),\n",
              " array([ 0.  ,  0.96,  1.92,  2.88,  3.84,  4.8 ,  5.76,  6.72,  7.68,\n",
              "         8.64,  9.6 , 10.56, 11.52, 12.48, 13.44, 14.4 , 15.36, 16.32,\n",
              "        17.28, 18.24, 19.2 , 20.16, 21.12, 22.08, 23.04, 24.  ]),\n",
              " <a list of 25 Patch objects>)"
            ]
          },
          "metadata": {
            "tags": []
          },
          "execution_count": 12
        },
        {
          "output_type": "display_data",
          "data": {
            "image/png": "[encoded data removed]",
            "text/plain": [
              "<Figure size 432x288 with 1 Axes>"
            ]
          },
          "metadata": {
            "tags": [],
            "needs_background": "light"
          }
        }
      ]
    },
    {
      "cell_type": "code",
      "metadata": {
        "id": "ucN9VoYyhg7G",
        "outputId": "3168cbb8-4330-40a6-d178-55b87d637863",
        "colab": {
          "base_uri": "https://localhost:8080/",
          "height": 367
        }
      },
      "source": [
        "plt.hist(Y[0],25)"
      ],
      "execution_count": 13,
      "outputs": [
        {
          "output_type": "execute_result",
          "data": {
            "text/plain": [
              "(array([ 3.,  0.,  9.,  2.,  1.,  4.,  3.,  1.,  2.,  0., 10., 12.,  1.,\n",
              "         4.,  0.,  5.,  1.,  2.,  3.,  9.,  0.,  8.,  0.,  0.,  2.]),\n",
              " array([ 0.  ,  0.96,  1.92,  2.88,  3.84,  4.8 ,  5.76,  6.72,  7.68,\n",
              "         8.64,  9.6 , 10.56, 11.52, 12.48, 13.44, 14.4 , 15.36, 16.32,\n",
              "        17.28, 18.24, 19.2 , 20.16, 21.12, 22.08, 23.04, 24.  ]),\n",
              " <a list of 25 Patch objects>)"
            ]
          },
          "metadata": {
            "tags": []
          },
          "execution_count": 13
        },
        {
          "output_type": "display_data",
          "data": {
            "image/png": "[encoded data removed]",
            "text/plain": [
              "<Figure size 432x288 with 1 Axes>"
            ]
          },
          "metadata": {
            "tags": [],
            "needs_background": "light"
          }
        }
      ]
    },
    {
      "cell_type": "code",
      "metadata": {
        "id": "MPaQ44GZhivP",
        "outputId": "76085263-491a-4e4b-896f-b79ca37f55d5",
        "colab": {
          "base_uri": "https://localhost:8080/",
          "height": 34
        }
      },
      "source": [
        "np.mean(X[0]),np.std(X[0], dtype=np.float64) #meaningful? => \n",
        "#relates to what we see in the histogram (the data deviates from the median, but I think it would be more \"meaningful\"\n",
        "#if we readily knew what the ranges were..."
      ],
      "execution_count": 16,
      "outputs": [
        {
          "output_type": "execute_result",
          "data": {
            "text/plain": [
              "(10.829268292682928, 6.93606964110298)"
            ]
          },
          "metadata": {
            "tags": []
          },
          "execution_count": 16
        }
      ]
    },
    {
      "cell_type": "code",
      "metadata": {
        "id": "N-6OHX6ZhmjP",
        "outputId": "3447a9c5-dfbe-48e4-a44b-07e72f9a7faf",
        "colab": {
          "base_uri": "https://localhost:8080/",
          "height": 34
        }
      },
      "source": [
        "np.array(X[0]).shape"
      ],
      "execution_count": 17,
      "outputs": [
        {
          "output_type": "execute_result",
          "data": {
            "text/plain": [
              "(369,)"
            ]
          },
          "metadata": {
            "tags": []
          },
          "execution_count": 17
        }
      ]
    },
    {
      "cell_type": "markdown",
      "metadata": {
        "id": "3nxa8rTgXL-k"
      },
      "source": [
        "Find lengths of all proteins:"
      ]
    },
    {
      "cell_type": "code",
      "metadata": {
        "id": "-B1LbuuDWR9Q"
      },
      "source": [
        "X_lengths = [len(s) for s in X]\n",
        "Y_lengths = [len(s) for s in Y] #iterates through each X and Y for each \"protein's\" length"
      ],
      "execution_count": 18,
      "outputs": []
    },
    {
      "cell_type": "code",
      "metadata": {
        "id": "bdgz5NgUQ9Te",
        "outputId": "886d0b2f-1e85-4319-dfa8-e3069c54e74a",
        "colab": {
          "base_uri": "https://localhost:8080/",
          "height": 34
        }
      },
      "source": [
        "np.max(X_lengths)"
      ],
      "execution_count": 20,
      "outputs": [
        {
          "output_type": "execute_result",
          "data": {
            "text/plain": [
              "5654"
            ]
          },
          "metadata": {
            "tags": []
          },
          "execution_count": 20
        }
      ]
    },
    {
      "cell_type": "code",
      "metadata": {
        "id": "TyIC4h17_1Ya",
        "outputId": "df532d3a-7cec-497e-c79c-af56b2953cd0",
        "colab": {
          "base_uri": "https://localhost:8080/",
          "height": 34
        }
      },
      "source": [
        "np.max(Y_lengths)"
      ],
      "execution_count": 21,
      "outputs": [
        {
          "output_type": "execute_result",
          "data": {
            "text/plain": [
              "3987"
            ]
          },
          "metadata": {
            "tags": []
          },
          "execution_count": 21
        }
      ]
    },
    {
      "cell_type": "code",
      "metadata": {
        "id": "SfMLFv6FmcST",
        "outputId": "401a863f-e4c5-4649-edbb-7b70d43cec63",
        "colab": {
          "base_uri": "https://localhost:8080/",
          "height": 34
        }
      },
      "source": [
        "np.min(X_lengths)"
      ],
      "execution_count": 22,
      "outputs": [
        {
          "output_type": "execute_result",
          "data": {
            "text/plain": [
              "5"
            ]
          },
          "metadata": {
            "tags": []
          },
          "execution_count": 22
        }
      ]
    },
    {
      "cell_type": "code",
      "metadata": {
        "id": "T1whnTfDmci_",
        "outputId": "a2896f41-fd4c-4826-98e8-aff9bd6fd313",
        "colab": {
          "base_uri": "https://localhost:8080/",
          "height": 34
        }
      },
      "source": [
        "np.min(Y_lengths)"
      ],
      "execution_count": 23,
      "outputs": [
        {
          "output_type": "execute_result",
          "data": {
            "text/plain": [
              "8"
            ]
          },
          "metadata": {
            "tags": []
          },
          "execution_count": 23
        }
      ]
    },
    {
      "cell_type": "code",
      "metadata": {
        "id": "sS2oMAefLb6G",
        "outputId": "dfb29f66-195d-4262-cc35-acf03fd505b6",
        "colab": {
          "base_uri": "https://localhost:8080/",
          "height": 265
        }
      },
      "source": [
        "plt.hist(X_lengths,bins=1000,range=(0,5000));"
      ],
      "execution_count": 24,
      "outputs": [
        {
          "output_type": "display_data",
          "data": {
            "image/png": "[encoded data removed]",
            "text/plain": [
              "<Figure size 432x288 with 1 Axes>"
            ]
          },
          "metadata": {
            "tags": [],
            "needs_background": "light"
          }
        }
      ]
    },
    {
      "cell_type": "code",
      "metadata": {
        "id": "_rucaC5TLlYb",
        "outputId": "04c12587-1d81-45e8-b096-1caec407f370",
        "colab": {
          "base_uri": "https://localhost:8080/",
          "height": 265
        }
      },
      "source": [
        "plt.hist(Y_lengths,bins=1000,range=(0,5000)); # number of bins \"more spikey\" groups with more divisions"
      ],
      "execution_count": 25,
      "outputs": [
        {
          "output_type": "display_data",
          "data": {
            "image/png": "[encoded data removed]",
            "text/plain": [
              "<Figure size 432x288 with 1 Axes>"
            ]
          },
          "metadata": {
            "tags": [],
            "needs_background": "light"
          }
        }
      ]
    },
    {
      "cell_type": "code",
      "metadata": {
        "id": "4i_d_oSLMVDY"
      },
      "source": [
        ""
      ],
      "execution_count": null,
      "outputs": []
    },
    {
      "cell_type": "code",
      "metadata": {
        "id": "2gddyFI1BQsy"
      },
      "source": [
        ""
      ],
      "execution_count": null,
      "outputs": []
    },
    {
      "cell_type": "code",
      "metadata": {
        "id": "zKzosiFFBWFE"
      },
      "source": [
        ""
      ],
      "execution_count": null,
      "outputs": []
    }
  ]
}